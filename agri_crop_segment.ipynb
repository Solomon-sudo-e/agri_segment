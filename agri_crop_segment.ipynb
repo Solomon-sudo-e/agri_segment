{
 "cells": [
  {
   "cell_type": "code",
   "execution_count": 1,
   "id": "fe420632-403b-41e9-a297-4a325a5989db",
   "metadata": {},
   "outputs": [
    {
     "name": "stdout",
     "output_type": "stream",
     "text": [
      "PyTorch version: 2.3.1+cu121\n",
      "torchvision version: 0.18.1+cpu\n",
      "CUDA available: True\n"
     ]
    }
   ],
   "source": [
    "# Import PyTorch\n",
    "import torch\n",
    "from torch import nn\n",
    "import torch.nn.functional as F\n",
    "import torch.optim as optim\n",
    "\n",
    "# Import torchvision\n",
    "import torchvision\n",
    "from torchvision.transforms import ToTensor\n",
    "from torchvision import transforms\n",
    "from torch.utils.data import DataLoader, Dataset\n",
    "from torchvision.datasets import ImageFolder\n",
    "\n",
    "# Import matplotlib for visualization\n",
    "import matplotlib.pyplot as plt\n",
    "\n",
    "# Import shutil for examining files\n",
    "import shutil\n",
    "\n",
    "# Import OS to access file path\n",
    "import os\n",
    "\n",
    "# Import Pandas and numpy for data\n",
    "import numpy as np\n",
    "import pandas as pd\n",
    "\n",
    "# Import files from your computer\n",
    "import tarfile\n",
    "from PIL import Image\n",
    "\n",
    "# Check versions\n",
    "# Note: your PyTorch version shouldn't be lower than 1.10.0 and torchvision version shouldn't be lower than 0.11\n",
    "print(f\"PyTorch version: {torch.__version__}\\ntorchvision version: {torchvision.__version__}\")\n",
    "print(f\"CUDA available: {torch.cuda.is_available()}\")\n"
   ]
  },
  {
   "cell_type": "code",
   "execution_count": 5,
   "id": "09e794a8-1d5e-46bf-b144-d8338f34426e",
   "metadata": {},
   "outputs": [
    {
     "name": "stdout",
     "output_type": "stream",
     "text": [
      "Extracted data to C:\\Users\\Solomon's PC\\supervised\\extracted_data\n"
     ]
    }
   ],
   "source": [
    "# tar_file_path = r\"C:\\Users\\Solomon's PC\\supervised\\Agriculture-Vision-2021.tar.gz\"\n",
    "# extraction_dir = r\"C:\\Users\\Solomon's PC\\supervised\\extracted_data\"\n",
    "\n",
    "# os.makedirs(extraction_dir, exist_ok=True)\n",
    "\n",
    "# with tarfile.open(tar_file_path, \"r:gz\") as tar:\n",
    "#     tar.extractall(path=extraction_dir)\n",
    "\n",
    "# print(f'Extracted data to {extraction_dir}')"
   ]
  },
  {
   "cell_type": "code",
   "execution_count": 2,
   "id": "1d6fd462-c3b0-44aa-b7cb-f8410527b46a",
   "metadata": {},
   "outputs": [],
   "source": [
    "root_dir = r\"C:\\Users\\Solomon's PC\\supervised\\extracted_data\\Agriculture-Vision-2021\"\n"
   ]
  },
  {
   "cell_type": "code",
   "execution_count": 3,
   "id": "15f59fec-87ec-4fdb-8a53-084330c12fde",
   "metadata": {},
   "outputs": [],
   "source": [
    "class AgricultureVisionDataset(Dataset):\n",
    "    def __init__(self, root_dir, image_type='rgb', transform=None):\n",
    "        self.root_dir = root_dir\n",
    "        self.image_type = image_type\n",
    "        self.transform = transform\n",
    "        self.image_paths = sorted(os.listdir(os.path.join(root_dir, 'images', image_type)))\n",
    "        self.mask_paths = sorted(os.listdir(os.path.join(root_dir, 'masks')))\n",
    "\n",
    "    def __len__(self):\n",
    "        return len(self.image_paths)\n",
    "\n",
    "    def __getitem__(self, idx):\n",
    "        img_name = os.path.join(self.root_dir, 'images', self.image_type, self.image_paths[idx])\n",
    "        mask_name = os.path.join(self.root_dir, 'masks', self.mask_paths[idx])\n",
    "        \n",
    "        image = Image.open(img_name).convert(\"RGB\")\n",
    "        mask = Image.open(mask_name).convert(\"L\")  # Assume masks are single-channel images\n",
    "        \n",
    "        if self.transform:\n",
    "            image = self.transform(image)\n",
    "            mask = self.transform(mask)\n",
    "        \n",
    "        return image, mask"
   ]
  },
  {
   "cell_type": "code",
   "execution_count": 4,
   "id": "0698d771-e253-43db-82bd-17b0f3ec50f3",
   "metadata": {},
   "outputs": [],
   "source": [
    "#Make a transformer\n",
    "data_transforms = transforms.Compose([\n",
    "    transforms.Resize((256,256)),\n",
    "    transforms.ToTensor(),\n",
    "])\n",
    "\n",
    "# Create dataset\n",
    "train_dataset = AgricultureVisionDataset(root_dir=r\"C:\\Users\\Solomon's PC\\supervised\\extracted_data\\Agriculture-Vision-2021\\train\", transform=data_transforms)\n",
    "val_dataset = AgricultureVisionDataset(root_dir=r\"C:\\Users\\Solomon's PC\\supervised\\extracted_data\\Agriculture-Vision-2021\\val\", transform=data_transforms)\n",
    "test_dataset = AgricultureVisionDataset(root_dir=r\"C:\\Users\\Solomon's PC\\supervised\\extracted_data\\Agriculture-Vision-2021\\test\", transform=data_transforms)\n",
    "\n",
    "train_loader = DataLoader(train_dataset, batch_size=16, shuffle=True)\n",
    "val_loader = DataLoader(val_dataset, batch_size=16, shuffle=False)\n",
    "test_loader = DataLoader(test_dataset, batch_size=16, shuffle=False)"
   ]
  },
  {
   "cell_type": "code",
   "execution_count": 5,
   "id": "a541cf18-5269-4f9b-b4f9-89abee2e3865",
   "metadata": {},
   "outputs": [],
   "source": [
    "class UNet(nn.Module):\n",
    "    def __init__(self):\n",
    "        super(UNet, self).__init__()\n",
    "        self.enc1 = nn.Sequential(\n",
    "            nn.Conv2d(3, 64, kernel_size=3, padding=1),\n",
    "            nn.ReLU(),\n",
    "            nn.Conv2d(64, 64, kernel_size=3, padding=1),\n",
    "            nn.ReLU()\n",
    "        )\n",
    "        self.enc2 = nn.Sequential(\n",
    "            nn.Conv2d(64, 128, kernel_size=3, padding=1),\n",
    "            nn.ReLU(),\n",
    "            nn.Conv2d(128, 128, kernel_size=3, padding=1),\n",
    "            nn.ReLU()\n",
    "        )\n",
    "        self.enc3 = nn.Sequential(\n",
    "            nn.Conv2d(128, 256, kernel_size=3, padding=1),\n",
    "            nn.ReLU(),\n",
    "            nn.Conv2d(256, 256, kernel_size=3, padding=1),\n",
    "            nn.ReLU()\n",
    "        )\n",
    "        \n",
    "        self.pool = nn.MaxPool2d(2, 2)\n",
    "        \n",
    "        self.upconv1 = nn.ConvTranspose2d(256, 128, kernel_size=2, stride=2)\n",
    "        self.upconv2 = nn.ConvTranspose2d(128, 64, kernel_size=2, stride=2)\n",
    "        \n",
    "        self.dec1 = nn.Sequential(\n",
    "            nn.Conv2d(256, 128, kernel_size=3, padding=1),\n",
    "            nn.ReLU(),\n",
    "            nn.Conv2d(128, 128, kernel_size=3, padding=1),\n",
    "            nn.ReLU()\n",
    "        )\n",
    "        self.dec2 = nn.Sequential(\n",
    "            nn.Conv2d(128, 64, kernel_size=3, padding=1),\n",
    "            nn.ReLU(),\n",
    "            nn.Conv2d(64, 64, kernel_size=3, padding=1),\n",
    "            nn.ReLU()\n",
    "        )\n",
    "        self.final = nn.Conv2d(64, 1, kernel_size=1)\n",
    "\n",
    "    def forward(self, x):\n",
    "        enc1 = self.enc1(x)\n",
    "        enc2 = self.enc2(self.pool(enc1))\n",
    "        enc3 = self.enc3(self.pool(enc2))\n",
    "        \n",
    "        upconv1 = self.upconv1(enc3)\n",
    "        dec1 = self.dec1(torch.cat([enc2, upconv1], 1))\n",
    "        \n",
    "        upconv2 = self.upconv2(dec1)\n",
    "        dec2 = self.dec2(torch.cat([enc1, upconv2], 1))\n",
    "        \n",
    "        return torch.sigmoid(self.final(dec2))"
   ]
  },
  {
   "cell_type": "code",
   "execution_count": 7,
   "id": "a9a78d2c-dcf4-4256-8b68-48b39f35738e",
   "metadata": {},
   "outputs": [],
   "source": [
    "device = torch.device('cuda' if torch.cuda.is_available() else 'cpu')\n",
    "model = UNet().to(device)\n",
    "criterion = nn.BCELoss()  # Binary Cross-Entropy Loss\n",
    "optimizer = optim.Adam(model.parameters(), lr=1e-4)\n",
    "\n",
    "num_epochs = 25"
   ]
  },
  {
   "cell_type": "code",
   "execution_count": 6,
   "id": "dfb90136-d9e5-454c-9ca5-d44be08f40d4",
   "metadata": {},
   "outputs": [
    {
     "name": "stdout",
     "output_type": "stream",
     "text": [
      "True\n"
     ]
    }
   ],
   "source": [
    "print(torch.cuda.is_available())"
   ]
  },
  {
   "cell_type": "code",
   "execution_count": null,
   "id": "b93060dc-832d-4a5e-93dc-8d14d34435fd",
   "metadata": {},
   "outputs": [
    {
     "name": "stdout",
     "output_type": "stream",
     "text": [
      "Epoch 1/25, Loss: 0.010782219398870564\n",
      "Validation Loss: 0.0008566691206794365\n"
     ]
    }
   ],
   "source": [
    "for epoch in range(num_epochs):\n",
    "    model.train()\n",
    "    running_loss = 0.0\n",
    "    for images, masks in train_loader:\n",
    "        images, masks = images.to(device), masks.to(device)\n",
    "        \n",
    "        optimizer.zero_grad()\n",
    "        outputs = model(images)\n",
    "        loss = criterion(outputs, masks)\n",
    "        loss.backward()\n",
    "        optimizer.step()\n",
    "        \n",
    "        running_loss += loss.item()\n",
    "    \n",
    "    print(f\"Epoch {epoch+1}/{num_epochs}, Loss: {running_loss/len(train_loader)}\")\n",
    "\n",
    "    # Validate the model\n",
    "    model.eval()\n",
    "    val_loss = 0.0\n",
    "    with torch.no_grad():\n",
    "        for images, masks in val_loader:\n",
    "            images, masks = images.to(device), masks.to(device)\n",
    "            outputs = model(images)\n",
    "            loss = criterion(outputs, masks)\n",
    "            val_loss += loss.item()\n",
    "    \n",
    "    print(f\"Validation Loss: {val_loss/len(val_loader)}\")"
   ]
  },
  {
   "cell_type": "code",
   "execution_count": null,
   "id": "9c1cdf4b-01a6-44c4-992c-c8dfcb2b8432",
   "metadata": {},
   "outputs": [],
   "source": [
    "# Evaluation\n",
    "model.eval()\n",
    "test_loss = 0.0\n",
    "with torch.no_grad():\n",
    "    for images, masks in test_loader:\n",
    "        images, masks = images.to(device), masks.to(device)\n",
    "        outputs = model(images)\n",
    "        loss = criterion(outputs, masks)\n",
    "        test_loss += loss.item()\n",
    "    \n",
    "print(f\"Test Loss: {test_loss/len(test_loader)}\")"
   ]
  },
  {
   "cell_type": "code",
   "execution_count": null,
   "id": "b3d5d377-0034-42ba-a839-19a0912d484c",
   "metadata": {},
   "outputs": [],
   "source": [
    "torch.save(model.state_dict(), 'segmentation_model.pth')"
   ]
  },
  {
   "cell_type": "code",
   "execution_count": null,
   "id": "d2afdced-2b3a-4dcf-ab81-8678f0e53959",
   "metadata": {},
   "outputs": [],
   "source": []
  }
 ],
 "metadata": {
  "kernelspec": {
   "display_name": "Python 3 (ipykernel)",
   "language": "python",
   "name": "python3"
  },
  "language_info": {
   "codemirror_mode": {
    "name": "ipython",
    "version": 3
   },
   "file_extension": ".py",
   "mimetype": "text/x-python",
   "name": "python",
   "nbconvert_exporter": "python",
   "pygments_lexer": "ipython3",
   "version": "3.12.1"
  }
 },
 "nbformat": 4,
 "nbformat_minor": 5
}
